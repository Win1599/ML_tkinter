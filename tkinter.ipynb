{
 "cells": [
  {
   "cell_type": "code",
   "execution_count": null,
   "metadata": {},
   "outputs": [],
   "source": [
    "#-------------------------tkinter library(python 3.0)---------------(Tkinter for python 2x versions)-------------------------------------\n",
    "\n",
    "#-its like applet , awt in java.\n",
    "\n",
    "# tkinter is a standard gui library for python.\n",
    "# Creating a GUI Using tkinter involves following steps.\n",
    "# !.import tkinter\n",
    "# 2.create a application window object \n",
    "# 3. Add Components to object as per their requirements to object\n",
    "# 4. Enter the main event to display the \n"
   ]
  },
  {
   "cell_type": "code",
   "execution_count": null,
   "metadata": {},
   "outputs": [],
   "source": [
    "#---------------example--------------------------\n",
    "\n",
    "import tkinter\n",
    "\n",
    "# create object\n",
    "m=tkinter.Tk()\n",
    "\n",
    "# add components\n",
    "m.title(\"Demo GUI Screen\")\n",
    "\n",
    "btn=tkinter.Button(m,text='Click',width=30 ,height=15,command=m.destroy)\n",
    "\n",
    "btn.pack()\n",
    "\n",
    "m.mainloop()"
   ]
  },
  {
   "cell_type": "code",
   "execution_count": null,
   "metadata": {},
   "outputs": [],
   "source": [
    "from tkinter import*\n",
    "\n",
    "root=Tk()\n",
    "\n",
    "frame=Frame(root)\n",
    "\n",
    "frame.pack()\n",
    "\n",
    "bottomframe=Frame(root)\n",
    "bottomframe.pack(side=BOTTOM)\n",
    "\n",
    "redbutton=Button(frame,text='Red',fg='red',bg='green')\n",
    "\n",
    "redbutton.pack(side=LEFT)\n",
    "\n",
    "greenbutton=Button(frame,text='Brown',fg='brown')\n",
    "\n",
    "greenbutton.pack(side=LEFT)\n",
    "\n",
    "bluebutton=Button(frame,text='Blue',fg='blue')\n",
    "\n",
    "bluebutton.pack(side=LEFT)\n",
    "\n",
    "blackbutton=Button(bottomframe,text='Black',fg='black')\n",
    "\n",
    "blackbutton.pack(side=BOTTOM)\n",
    "\n",
    "root.mainloop()\n"
   ]
  },
  {
   "cell_type": "code",
   "execution_count": null,
   "metadata": {},
   "outputs": [],
   "source": [
    "# To develope a registration form with writing a data into excel sheet"
   ]
  }
 ],
 "metadata": {
  "kernelspec": {
   "display_name": "Python 3",
   "language": "python",
   "name": "python3"
  },
  "language_info": {
   "codemirror_mode": {
    "name": "ipython",
    "version": 3
   },
   "file_extension": ".py",
   "mimetype": "text/x-python",
   "name": "python",
   "nbconvert_exporter": "python",
   "pygments_lexer": "ipython3",
   "version": "3.7.4"
  }
 },
 "nbformat": 4,
 "nbformat_minor": 4
}
